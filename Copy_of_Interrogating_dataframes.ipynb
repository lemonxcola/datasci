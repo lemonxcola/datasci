{
  "nbformat": 4,
  "nbformat_minor": 0,
  "metadata": {
    "colab": {
      "name": "Copy of Interrogating_dataframes.ipynb",
      "provenance": [],
      "collapsed_sections": [],
      "include_colab_link": true
    },
    "kernelspec": {
      "name": "python3",
      "display_name": "Python 3"
    },
    "language_info": {
      "name": "python"
    }
  },
  "cells": [
    {
      "cell_type": "markdown",
      "metadata": {
        "id": "view-in-github",
        "colab_type": "text"
      },
      "source": [
        "<a href=\"https://colab.research.google.com/github/lemonxcola/datasci/blob/Files-folder/Copy_of_Interrogating_dataframes.ipynb\" target=\"_parent\"><img src=\"https://colab.research.google.com/assets/colab-badge.svg\" alt=\"Open In Colab\"/></a>"
      ]
    },
    {
      "cell_type": "markdown",
      "metadata": {
        "id": "1Gs0TsVUvHgr"
      },
      "source": [
        "# Interrogating the dataframe\n",
        "---\n",
        "\n",
        "We use pandas to create dataframes from data sets in files or online tables.\n",
        "\n",
        "Once we have the dataframe we might want to:  \n",
        "*   display a subset of rows\n",
        "*   *   we can do this using df.head(), df.tail() or df.iloc[index]\n",
        "*   display a subset of columns\n",
        "*   *   we can do this using the column name as the key, e.g.   \n",
        "`                df['rain (mm)']`  \n",
        "*   *   we can display more than one column, simply by listing the columns in the square brackets, e.g.   \n",
        "`                df[['rain (mm)', 'tmin (degC)', 'sun (hours)']]`  \n",
        "*   *   and can dislay a subset of rows for a subset of columns, e.g.  \n",
        " `               df[['rain (mm)', 'tmax (degC)']].head(10)`\n",
        "\n",
        "\n"
      ]
    },
    {
      "cell_type": "markdown",
      "metadata": {
        "id": "rugxYQSIyHiR"
      },
      "source": [
        "### Exercise 1 - get the data, look at first 10 records\n",
        "---\n",
        "\n",
        "\n",
        "1.  Import the pandas library with the alias pd  \n",
        "2.  Read the sheet with the name \"Industry Migration\" from the Excel file from this link: https://github.com/futureCodersSE/working-with-data/blob/main/Data%20sets/public_use-talent-migration.xlsx?raw=true  (*Hint:  use pd.read_excel(url, sheet_name=\"Industry Migration\") with the above url.*)\n",
        "3.  display the first 10 rows of the data\n",
        "\n"
      ]
    },
    {
      "cell_type": "code",
      "metadata": {
        "id": "WHEnQlll1vyL",
        "colab": {
          "base_uri": "https://localhost:8080/",
          "height": 779
        },
        "outputId": "b8b50f6c-36c1-4971-d29a-f906f9535ccc"
      },
      "source": [
        "import pandas as pd\n",
        "url = \"https://github.com/futureCodersSE/working-with-data/blob/main/Data%20sets/public_use-talent-migration.xlsx?raw=true\"\n",
        "df = pd.read_excel(url, sheet_name=\"Industry Migration\")\n",
        "df.head(10)\n",
        "df\n"
      ],
      "execution_count": null,
      "outputs": [
        {
          "output_type": "execute_result",
          "data": {
            "text/html": [
              "<div>\n",
              "<style scoped>\n",
              "    .dataframe tbody tr th:only-of-type {\n",
              "        vertical-align: middle;\n",
              "    }\n",
              "\n",
              "    .dataframe tbody tr th {\n",
              "        vertical-align: top;\n",
              "    }\n",
              "\n",
              "    .dataframe thead th {\n",
              "        text-align: right;\n",
              "    }\n",
              "</style>\n",
              "<table border=\"1\" class=\"dataframe\">\n",
              "  <thead>\n",
              "    <tr style=\"text-align: right;\">\n",
              "      <th></th>\n",
              "      <th>country_code</th>\n",
              "      <th>country_name</th>\n",
              "      <th>wb_income</th>\n",
              "      <th>wb_region</th>\n",
              "      <th>isic_section_index</th>\n",
              "      <th>isic_section_name</th>\n",
              "      <th>industry_id</th>\n",
              "      <th>industry_name</th>\n",
              "      <th>net_per_10K_2015</th>\n",
              "      <th>net_per_10K_2016</th>\n",
              "      <th>net_per_10K_2017</th>\n",
              "      <th>net_per_10K_2018</th>\n",
              "      <th>net_per_10K_2019</th>\n",
              "    </tr>\n",
              "  </thead>\n",
              "  <tbody>\n",
              "    <tr>\n",
              "      <th>0</th>\n",
              "      <td>ae</td>\n",
              "      <td>United Arab Emirates</td>\n",
              "      <td>High income</td>\n",
              "      <td>Middle East &amp; North Africa</td>\n",
              "      <td>C</td>\n",
              "      <td>Manufacturing</td>\n",
              "      <td>1</td>\n",
              "      <td>Defense &amp; Space</td>\n",
              "      <td>378.74</td>\n",
              "      <td>127.94</td>\n",
              "      <td>8.20</td>\n",
              "      <td>68.51</td>\n",
              "      <td>49.55</td>\n",
              "    </tr>\n",
              "    <tr>\n",
              "      <th>1</th>\n",
              "      <td>ae</td>\n",
              "      <td>United Arab Emirates</td>\n",
              "      <td>High income</td>\n",
              "      <td>Middle East &amp; North Africa</td>\n",
              "      <td>J</td>\n",
              "      <td>Information and communication</td>\n",
              "      <td>3</td>\n",
              "      <td>Computer Hardware</td>\n",
              "      <td>100.97</td>\n",
              "      <td>358.14</td>\n",
              "      <td>112.98</td>\n",
              "      <td>149.57</td>\n",
              "      <td>182.22</td>\n",
              "    </tr>\n",
              "    <tr>\n",
              "      <th>2</th>\n",
              "      <td>ae</td>\n",
              "      <td>United Arab Emirates</td>\n",
              "      <td>High income</td>\n",
              "      <td>Middle East &amp; North Africa</td>\n",
              "      <td>J</td>\n",
              "      <td>Information and communication</td>\n",
              "      <td>4</td>\n",
              "      <td>Computer Software</td>\n",
              "      <td>1079.36</td>\n",
              "      <td>848.15</td>\n",
              "      <td>596.48</td>\n",
              "      <td>409.18</td>\n",
              "      <td>407.41</td>\n",
              "    </tr>\n",
              "    <tr>\n",
              "      <th>3</th>\n",
              "      <td>ae</td>\n",
              "      <td>United Arab Emirates</td>\n",
              "      <td>High income</td>\n",
              "      <td>Middle East &amp; North Africa</td>\n",
              "      <td>J</td>\n",
              "      <td>Information and communication</td>\n",
              "      <td>5</td>\n",
              "      <td>Computer Networking</td>\n",
              "      <td>401.46</td>\n",
              "      <td>447.39</td>\n",
              "      <td>163.99</td>\n",
              "      <td>236.69</td>\n",
              "      <td>188.07</td>\n",
              "    </tr>\n",
              "    <tr>\n",
              "      <th>4</th>\n",
              "      <td>ae</td>\n",
              "      <td>United Arab Emirates</td>\n",
              "      <td>High income</td>\n",
              "      <td>Middle East &amp; North Africa</td>\n",
              "      <td>J</td>\n",
              "      <td>Information and communication</td>\n",
              "      <td>6</td>\n",
              "      <td>Internet</td>\n",
              "      <td>1840.33</td>\n",
              "      <td>1368.42</td>\n",
              "      <td>877.71</td>\n",
              "      <td>852.39</td>\n",
              "      <td>519.40</td>\n",
              "    </tr>\n",
              "    <tr>\n",
              "      <th>...</th>\n",
              "      <td>...</td>\n",
              "      <td>...</td>\n",
              "      <td>...</td>\n",
              "      <td>...</td>\n",
              "      <td>...</td>\n",
              "      <td>...</td>\n",
              "      <td>...</td>\n",
              "      <td>...</td>\n",
              "      <td>...</td>\n",
              "      <td>...</td>\n",
              "      <td>...</td>\n",
              "      <td>...</td>\n",
              "      <td>...</td>\n",
              "    </tr>\n",
              "    <tr>\n",
              "      <th>5290</th>\n",
              "      <td>zw</td>\n",
              "      <td>Zimbabwe</td>\n",
              "      <td>Low income</td>\n",
              "      <td>Sub-Saharan Africa</td>\n",
              "      <td>B</td>\n",
              "      <td>Mining and quarrying</td>\n",
              "      <td>56</td>\n",
              "      <td>Mining &amp; Metals</td>\n",
              "      <td>257.36</td>\n",
              "      <td>187.70</td>\n",
              "      <td>-17.45</td>\n",
              "      <td>70.60</td>\n",
              "      <td>-18.30</td>\n",
              "    </tr>\n",
              "    <tr>\n",
              "      <th>5291</th>\n",
              "      <td>zw</td>\n",
              "      <td>Zimbabwe</td>\n",
              "      <td>Low income</td>\n",
              "      <td>Sub-Saharan Africa</td>\n",
              "      <td>P</td>\n",
              "      <td>Education</td>\n",
              "      <td>68</td>\n",
              "      <td>Higher Education</td>\n",
              "      <td>190.84</td>\n",
              "      <td>50.76</td>\n",
              "      <td>-68.74</td>\n",
              "      <td>-234.59</td>\n",
              "      <td>-304.36</td>\n",
              "    </tr>\n",
              "    <tr>\n",
              "      <th>5292</th>\n",
              "      <td>zw</td>\n",
              "      <td>Zimbabwe</td>\n",
              "      <td>Low income</td>\n",
              "      <td>Sub-Saharan Africa</td>\n",
              "      <td>O</td>\n",
              "      <td>Public administration and defence; compulsory ...</td>\n",
              "      <td>74</td>\n",
              "      <td>International Affairs</td>\n",
              "      <td>25.23</td>\n",
              "      <td>-46.12</td>\n",
              "      <td>214.29</td>\n",
              "      <td>311.03</td>\n",
              "      <td>-55.88</td>\n",
              "    </tr>\n",
              "    <tr>\n",
              "      <th>5293</th>\n",
              "      <td>zw</td>\n",
              "      <td>Zimbabwe</td>\n",
              "      <td>Low income</td>\n",
              "      <td>Sub-Saharan Africa</td>\n",
              "      <td>J</td>\n",
              "      <td>Information and communication</td>\n",
              "      <td>96</td>\n",
              "      <td>Information Technology &amp; Services</td>\n",
              "      <td>46.65</td>\n",
              "      <td>35.93</td>\n",
              "      <td>-142.64</td>\n",
              "      <td>-108.16</td>\n",
              "      <td>-213.82</td>\n",
              "    </tr>\n",
              "    <tr>\n",
              "      <th>5294</th>\n",
              "      <td>zw</td>\n",
              "      <td>Zimbabwe</td>\n",
              "      <td>Low income</td>\n",
              "      <td>Sub-Saharan Africa</td>\n",
              "      <td>S</td>\n",
              "      <td>Other service activities</td>\n",
              "      <td>100</td>\n",
              "      <td>Non-Profit Organization Management</td>\n",
              "      <td>133.56</td>\n",
              "      <td>88.48</td>\n",
              "      <td>6.96</td>\n",
              "      <td>-39.32</td>\n",
              "      <td>-92.51</td>\n",
              "    </tr>\n",
              "  </tbody>\n",
              "</table>\n",
              "<p>5295 rows × 13 columns</p>\n",
              "</div>"
            ],
            "text/plain": [
              "     country_code          country_name  ... net_per_10K_2018 net_per_10K_2019\n",
              "0              ae  United Arab Emirates  ...            68.51            49.55\n",
              "1              ae  United Arab Emirates  ...           149.57           182.22\n",
              "2              ae  United Arab Emirates  ...           409.18           407.41\n",
              "3              ae  United Arab Emirates  ...           236.69           188.07\n",
              "4              ae  United Arab Emirates  ...           852.39           519.40\n",
              "...           ...                   ...  ...              ...              ...\n",
              "5290           zw              Zimbabwe  ...            70.60           -18.30\n",
              "5291           zw              Zimbabwe  ...          -234.59          -304.36\n",
              "5292           zw              Zimbabwe  ...           311.03           -55.88\n",
              "5293           zw              Zimbabwe  ...          -108.16          -213.82\n",
              "5294           zw              Zimbabwe  ...           -39.32           -92.51\n",
              "\n",
              "[5295 rows x 13 columns]"
            ]
          },
          "metadata": {
            "tags": []
          },
          "execution_count": 14
        }
      ]
    },
    {
      "cell_type": "markdown",
      "metadata": {
        "id": "dBsdAsk43aoX"
      },
      "source": [
        "### Exercise 2 - display just two columns\n",
        "\n",
        "Display the first 50 records focusing on the industries where migration is happening in each country (show just country_name and industry_name)."
      ]
    },
    {
      "cell_type": "code",
      "metadata": {
        "id": "rDEzOpDXvGx0"
      },
      "source": [
        ""
      ],
      "execution_count": null,
      "outputs": []
    },
    {
      "cell_type": "markdown",
      "metadata": {
        "id": "ZIsrvFNjAuWE"
      },
      "source": [
        "### Exercise 3 - yearly migration\n",
        "\n",
        "*   display the middle 20 records, showing the country_name and the migration for each of the years 2015 to 2019.\n",
        "---\n"
      ]
    },
    {
      "cell_type": "code",
      "metadata": {
        "id": "yXpe9SuBBloC"
      },
      "source": [
        ""
      ],
      "execution_count": null,
      "outputs": []
    },
    {
      "cell_type": "markdown",
      "metadata": {
        "id": "2wfsDcuvBl7o"
      },
      "source": [
        "### Exercise 4 - migration to and from\n",
        "---\n",
        "\n",
        "The Excel file at this link (which you have already opened above): https://github.com/futureCodersSE/working-with-data/blob/main/Data%20sets/public_use-talent-migration.xlsx?raw=true has three data sheets, \"Country Migration\", \"Industry Migration\" and \"Skills Migration\"\n",
        "\n",
        "Open the data sheet \"Country Migration\" and display the first 10 records showing the country that migration was to, the country it was from and the net migration for each year from 2015 to 2019"
      ]
    },
    {
      "cell_type": "code",
      "metadata": {
        "id": "Q2tyWrG7-UAW"
      },
      "source": [
        ""
      ],
      "execution_count": null,
      "outputs": []
    },
    {
      "cell_type": "markdown",
      "metadata": {
        "id": "vb9QQv_VBHVk"
      },
      "source": [
        "### Exercise 5 - unique countries\n",
        "\n",
        "Using the \"Country Migration\" sheet, get all the unique country names from where people have migrated (base_country_name) and use a for loop to print a list of the countries."
      ]
    },
    {
      "cell_type": "code",
      "metadata": {
        "id": "f6uCYdEHBw1f"
      },
      "source": [
        "\n"
      ],
      "execution_count": null,
      "outputs": []
    },
    {
      "cell_type": "markdown",
      "metadata": {
        "id": "SQNg0Sk5FaJ3"
      },
      "source": [
        "### Exercise 6 - how many countries are migrated to\n",
        "\n",
        "Using the \"Country Migration\" sheet again, get all the unique country names to where people have migrated and display the number of unique countries."
      ]
    },
    {
      "cell_type": "code",
      "metadata": {
        "id": "SCidja1FFySO"
      },
      "source": [
        ""
      ],
      "execution_count": null,
      "outputs": []
    },
    {
      "cell_type": "markdown",
      "metadata": {
        "id": "qyjM39DzFy3t"
      },
      "source": [
        "### Exercise 7 - skill sets\n",
        "---\n",
        "\n",
        "\n",
        "Using the \"Skill Migration\" data sheet, display the following:\n",
        "*  the first record\n",
        "*  the last 10 records\n",
        "*  records from index 500 to index 600  \n",
        "*  a count of all unique countries\n",
        "*  a list of all unique skill group categories\n",
        "*  the first 50 skill group names and net migration in 2019"
      ]
    },
    {
      "cell_type": "code",
      "metadata": {
        "id": "EWGy5iQHG8vA"
      },
      "source": [
        ""
      ],
      "execution_count": null,
      "outputs": []
    },
    {
      "cell_type": "markdown",
      "metadata": {
        "id": "V_v89VIqG9Lq"
      },
      "source": [
        "### Exercise 8 - total net migration over 5 years\n",
        "---\n",
        "\n",
        "Using the Country Migration data sheet, display the record at position 10.  Using the column names to access the data in each column, add the five columns containing the net migration data together to calculate the total net migration over the 5 years between 2015 and 2019."
      ]
    },
    {
      "cell_type": "code",
      "metadata": {
        "id": "YTov4W2dILe2"
      },
      "source": [
        ""
      ],
      "execution_count": null,
      "outputs": []
    },
    {
      "cell_type": "markdown",
      "metadata": {
        "id": "cFffYI2qJJI-"
      },
      "source": [
        "### Exercise 9 - formulating a text response\n",
        "\n",
        "Using the Industry Migration data sheet, display the record at position 100.  Using the column names again to access the data in each column, calculate net migration over the 5 years from 2015 to 2019.\n",
        "\n",
        "Then print the following message, adding the data where indicated:\n",
        "\n",
        "The total net migration into `country` of skilled workers for the `industry name` industry, during the years 2015-2019 was `total_net_migration`"
      ]
    },
    {
      "cell_type": "code",
      "metadata": {
        "id": "dYlVTLOGNoOO"
      },
      "source": [
        ""
      ],
      "execution_count": null,
      "outputs": []
    },
    {
      "cell_type": "markdown",
      "metadata": {
        "id": "AGqV7ySKKadV"
      },
      "source": [
        "### Exercise 10 - five text responses\n",
        "\n",
        "Using the Industry Migration data sheet, calculate net migration (rounded to 1 decimal place) over the 5 years from 2015 to 2019 for the records at positions 1 to 5 and print the following message for each, adding the data where indicated:\n",
        "\n",
        "The total net migration into `country` of skilled workers for the `industry name` industry, during the years 2015-2019 was `total_net_migration`\n",
        "\n",
        "*Hint: use a for loop to get a record and do each calculation*"
      ]
    },
    {
      "cell_type": "code",
      "metadata": {
        "id": "f2ZMvHXTLRm1"
      },
      "source": [
        ""
      ],
      "execution_count": null,
      "outputs": []
    }
  ]
}